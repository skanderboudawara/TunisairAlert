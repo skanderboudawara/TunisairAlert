{
 "cells": [
  {
   "cell_type": "code",
   "execution_count": 27,
   "metadata": {},
   "outputs": [],
   "source": [
    "#%%\n",
    "import sqlite3\n",
    "import pandas as pd\n",
    "import matplotlib \n",
    "\n",
    "dat = sqlite3.connect('tunisair_delay.db')\n",
    "query = dat.execute(\"SELECT * From TUNISAIR_FLIGHTS\")\n",
    "cols = [column[0] for column in query.description]\n",
    "df= pd.DataFrame.from_records(data = query.fetchall(), columns = cols)"
   ]
  },
  {
   "cell_type": "code",
   "execution_count": 28,
   "metadata": {},
   "outputs": [
    {
     "name": "stdout",
     "output_type": "stream",
     "text": [
      "                   ID_FLIGHT FLIGHT_NUMBER FLIGHT_STATUS DEPARTURE_IATA  \\\n",
      "0     TU858_29_07_2022_19_30         TU858        landed            TUN   \n",
      "1     BJ806_29_07_2022_20_15         BJ806        landed            TUN   \n",
      "2     LN305_29_07_2022_20_15         LN305        landed            TUN   \n",
      "3     AZ863_30_07_2022_09_25         AZ863     scheduled            TUN   \n",
      "4    UG1758_30_07_2022_09_30        UG1758     scheduled            TUN   \n",
      "..                       ...           ...           ...            ...   \n",
      "144   8U490_30_07_2022_14_35         8U490     scheduled            MRA   \n",
      "145  LH1744_30_07_2022_14_20        LH1744     scheduled            MUC   \n",
      "146   TU903_30_07_2022_15_00         TU903     scheduled            MRS   \n",
      "147   AT572_30_07_2022_13_10         AT572     scheduled            CMN   \n",
      "148   BJ523_30_07_2022_15_00         BJ523     scheduled            NTE   \n",
      "\n",
      "              DEPARTURE_AIRPORT ARRIVAL_IATA         ARRIVAL_AIRPORT  \\\n",
      "0                Tunis Carthage          MXP         Milano Malpensa   \n",
      "1                Tunis Carthage          LED  St. Petersburg Pulkovo   \n",
      "2                Tunis Carthage          MJI  Tripoli Mitiga Airport   \n",
      "3                Tunis Carthage          FCO          Rome Fiumicino   \n",
      "4                Tunis Carthage          PMO         Palermo Palermo   \n",
      "..                          ...          ...                     ...   \n",
      "144   Misratah Misratah Airport          TUN          Tunis Carthage   \n",
      "145  Munich Franz Josef Strauss          TUN          Tunis Carthage   \n",
      "146          Marseille Provence          TUN          Tunis Carthage   \n",
      "147  Casablanca Mohammed V Intl          TUN          Tunis Carthage   \n",
      "148    Nantes Nantes Atlantique          TUN          Tunis Carthage   \n",
      "\n",
      "    DEPARTURE_SCHEDULED ARRIVAL_SCHEDULED DEPARTURE_ESTIMATED  \\\n",
      "0      2022-07-29 20:30  2022-07-29 23:15    2022-07-29 20:45   \n",
      "1      2022-07-29 21:15  2022-07-30 03:25                       \n",
      "2      2022-07-29 21:15  2022-07-29 23:30                       \n",
      "3      2022-07-30 10:25  2022-07-30 12:50                       \n",
      "4      2022-07-30 10:30  2022-07-30 12:30                       \n",
      "..                  ...               ...                 ...   \n",
      "144    2022-07-30 15:35  2022-07-30 15:50                       \n",
      "145    2022-07-30 15:20  2022-07-30 16:30                       \n",
      "146    2022-07-30 16:00  2022-07-30 16:35                       \n",
      "147    2022-07-30 14:10  2022-07-30 17:05                       \n",
      "148    2022-07-30 16:00  2022-07-30 17:25                       \n",
      "\n",
      "    ARRIVAL_ESTIMATED  DEPARTURE_ACTUAL    ARRIVAL_ACTUAL  DEPARTURE_DELAY  \\\n",
      "0    2022-07-29 23:25  2022-07-29 20:45  2022-07-29 23:25             15.0   \n",
      "1                                                                      NaN   \n",
      "2                                                                      NaN   \n",
      "3                                                                      NaN   \n",
      "4                                                                      NaN   \n",
      "..                ...               ...               ...              ...   \n",
      "144                                                                    NaN   \n",
      "145                                                                    NaN   \n",
      "146                                                                    NaN   \n",
      "147                                                                    NaN   \n",
      "148                                                                    NaN   \n",
      "\n",
      "     ARRIVAL_DELAY  \n",
      "0             10.0  \n",
      "1              NaN  \n",
      "2              NaN  \n",
      "3              NaN  \n",
      "4              NaN  \n",
      "..             ...  \n",
      "144            NaN  \n",
      "145            NaN  \n",
      "146            NaN  \n",
      "147            NaN  \n",
      "148            NaN  \n",
      "\n",
      "[149 rows x 15 columns]\n"
     ]
    }
   ],
   "source": [
    "df = df.convert_dtypes()\n",
    "df[\"DEPARTURE_DELAY\"] = pd.to_numeric(df[\"DEPARTURE_DELAY\"])\n",
    "df[\"ARRIVAL_DELAY\"] = pd.to_numeric(df[\"ARRIVAL_DELAY\"])\n",
    "print(df)"
   ]
  },
  {
   "cell_type": "code",
   "execution_count": 41,
   "metadata": {},
   "outputs": [
    {
     "name": "stdout",
     "output_type": "stream",
     "text": [
      "               ARRIVAL_DELAY  DEPARTURE_DELAY\n",
      "FLIGHT_STATUS                                \n",
      "landed                 180.0            204.0\n",
      "scheduled                0.0              0.0\n"
     ]
    },
    {
     "data": {
      "text/plain": [
       "<AxesSubplot:title={'center':'Cumulated delays per flight status'}, xlabel='FLIGHT_STATUS'>"
      ]
     },
     "execution_count": 41,
     "metadata": {},
     "output_type": "execute_result"
    },
    {
     "data": {
      "image/png": "[encoded data removed]",
      "text/plain": [
       "<Figure size 720x432 with 1 Axes>"
      ]
     },
     "metadata": {
      "needs_background": "light"
     },
     "output_type": "display_data"
    }
   ],
   "source": [
    "\n",
    "df_delay = df[[\"ARRIVAL_DELAY\",\"DEPARTURE_DELAY\", \"FLIGHT_STATUS\"]]\n",
    "df_delay = df_delay.groupby(['FLIGHT_STATUS']).sum()\n",
    "\n",
    "print(df_delay)\n",
    "df_delay.plot(kind = 'bar',title='Cumulated delays per flight status', figsize=(10,6))"
   ]
  },
  {
   "cell_type": "code",
   "execution_count": 42,
   "metadata": {},
   "outputs": [
    {
     "name": "stdout",
     "output_type": "stream",
     "text": [
      "               ARRIVAL_DELAY  DEPARTURE_DELAY\n",
      "FLIGHT_STATUS                                \n",
      "landed                  60.0             40.8\n",
      "scheduled                NaN              NaN\n"
     ]
    },
    {
     "data": {
      "text/plain": [
       "<AxesSubplot:title={'center':'Average delays per flight status'}, xlabel='FLIGHT_STATUS'>"
      ]
     },
     "execution_count": 42,
     "metadata": {},
     "output_type": "execute_result"
    },
    {
     "data": {
      "image/png": "[encoded data removed]",
      "text/plain": [
       "<Figure size 720x432 with 1 Axes>"
      ]
     },
     "metadata": {
      "needs_background": "light"
     },
     "output_type": "display_data"
    }
   ],
   "source": [
    "df_avg_delays = df[[\"ARRIVAL_DELAY\",\"DEPARTURE_DELAY\", \"FLIGHT_STATUS\"]]\n",
    "df_avg_delays = df_avg_delays.groupby(['FLIGHT_STATUS']).mean()\n",
    "\n",
    "print(df_avg_delays)\n",
    "df_avg_delays.plot(kind = 'bar',title='Average delays per flight status', figsize=(10,6))"
   ]
  }
 ],
 "metadata": {
  "kernelspec": {
   "display_name": "Python 3.9.13 64-bit",
   "language": "python",
   "name": "python3"
  },
  "language_info": {
   "codemirror_mode": {
    "name": "ipython",
    "version": 3
   },
   "file_extension": ".py",
   "mimetype": "text/x-python",
   "name": "python",
   "nbconvert_exporter": "python",
   "pygments_lexer": "ipython3",
   "version": "3.9.13"
  },
  "orig_nbformat": 4,
  "vscode": {
   "interpreter": {
    "hash": "b0fa6594d8f4cbf19f97940f81e996739fb7646882a419484c72d19e05852a7e"
   }
  }
 },
 "nbformat": 4,
 "nbformat_minor": 2
}
