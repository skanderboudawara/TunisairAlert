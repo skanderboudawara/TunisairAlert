{
 "cells": [
  {
   "cell_type": "code",
   "execution_count": 12,
   "metadata": {},
   "outputs": [
    {
     "name": "stdout",
     "output_type": "stream",
     "text": [
      "/Users/skanderboudawara/Desktop/Data projects/TunisairAlert/datasets/SQL table/datasets/SQL table/tunisair_delay.db\n"
     ]
    }
   ],
   "source": [
    "import sqlite3  # The SQL table will be transformed to pandas\n",
    "import pandas as pd  # Pandas library\n",
    "from matplotlib import font_manager as fm  # font manager\n",
    "import matplotlib.pyplot as plt  # plotlib library\n",
    "from cycler import cycler  # To define color cycle\n",
    "import os  # OS\n",
    "from datetime import datetime  # Datetime\n",
    "import pytz  # timezone\n",
    "tz = \"Africa/Tunis\"\n",
    "\n",
    "# Path of the SQL Table\n",
    "sql_table_loc = path_flight_type = os.path.join(\n",
    "    os.path.abspath(os.curdir), 'datasets/SQL table/tunisair_delay.db')\n",
    "print(sql_table_loc)\n",
    "# Path of the font and assign the font to prop\n",
    "# https://www.1001fonts.com/airport-fonts.html\n",
    "fpath = os.path.join(os.path.abspath(os.curdir), 'reports/fonts/LEDBDREV.TTF')\n",
    "prop = fm.FontProperties(fname=fpath)"
   ]
  },
  {
   "cell_type": "code",
   "execution_count": 13,
   "metadata": {},
   "outputs": [],
   "source": [
    "# todays date\n",
    "current_time = datetime.now().astimezone(pytz.timezone(tz))\n",
    "todays_date = current_time.strftime(\"%d/%m/%Y\")\n",
    "\n",
    "# Dataset query\n",
    "dat = sqlite3.connect('tunisair_delay.db')\n",
    "query = dat.execute(\n",
    "    f'SELECT * From TUNISAIR_FLIGHTS WHERE DEPARTURE_DATE=\"{str(todays_date)}\"')\n",
    "cols = [column[0] for column in query.description]\n",
    "\n",
    "# Transform the SQL table to pandas + refactor the types\n",
    "df = pd.DataFrame.from_records(data=query.fetchall(), columns=cols)\n",
    "df = df.convert_dtypes()\n",
    "df[\"DEPARTURE_DELAY\"] = pd.to_numeric(df[\"DEPARTURE_DELAY\"])\n",
    "df[\"ARRIVAL_DELAY\"] = pd.to_numeric(df[\"ARRIVAL_DELAY\"])"
   ]
  },
  {
   "cell_type": "code",
   "execution_count": 14,
   "metadata": {},
   "outputs": [],
   "source": [
    "\n",
    "df_arr_delay = df[[\"ARRIVAL_DELAY\",\"ARRIVAL_HOUR\", \"FLIGHT_STATUS\"]]\n",
    "df_arr_delay = df_arr_delay.pivot_table(values='ARRIVAL_DELAY', index = 'ARRIVAL_HOUR', \\\n",
    "                     columns= 'FLIGHT_STATUS', aggfunc= 'sum')"
   ]
  },
  {
   "cell_type": "code",
   "execution_count": 15,
   "metadata": {},
   "outputs": [
    {
     "name": "stdout",
     "output_type": "stream",
     "text": [
      "FLIGHT_STATUS  active     landed     scheduled\n",
      "ARRIVAL_HOUR                                  \n",
      "00h                  NaN        NaN        0.0\n",
      "01h                  NaN        NaN        0.0\n",
      "02h                  NaN        NaN        0.0\n",
      "03h                  NaN        NaN        0.0\n",
      "04h                  NaN        NaN        0.0\n",
      "09h                  NaN      106.0        NaN\n",
      "10h                  NaN       72.0        NaN\n",
      "11h                  NaN      159.0        NaN\n",
      "12h                  NaN       25.0        NaN\n",
      "13h                  NaN        4.0        NaN\n",
      "14h                  NaN      113.0        NaN\n",
      "15h                  NaN      181.0        NaN\n",
      "16h                  NaN      366.0        NaN\n",
      "17h                  NaN      234.0        NaN\n",
      "18h                  NaN      136.0        NaN\n",
      "19h                 63.0        0.0      274.0\n",
      "20h                  0.0        NaN        0.0\n",
      "21h                  NaN        NaN       75.0\n",
      "22h                106.0        NaN        0.0\n",
      "23h                 70.0        NaN        0.0\n"
     ]
    }
   ],
   "source": [
    "print(df_arr_delay)"
   ]
  },
  {
   "cell_type": "code",
   "execution_count": 16,
   "metadata": {},
   "outputs": [],
   "source": [
    "\n",
    "fpath = os.path.join(os.getcwd(), 'reports/fonts/LEDBDREV.TTF')\n",
    "prop = fm.FontProperties(fname=fpath)"
   ]
  },
  {
   "cell_type": "code",
   "execution_count": 17,
   "metadata": {},
   "outputs": [
    {
     "ename": "FileNotFoundError",
     "evalue": "[Errno 2] No such file or directory: '/Users/skanderboudawara/Desktop/Data projects/TunisairAlert/datasets/SQL table/reports/07'",
     "output_type": "error",
     "traceback": [
      "\u001b[0;31m---------------------------------------------------------------------------\u001b[0m",
      "\u001b[0;31mFileNotFoundError\u001b[0m                         Traceback (most recent call last)",
      "\u001b[1;32m/Users/skanderboudawara/Desktop/Data projects/TunisairAlert/datasets/SQL table/pandas_cleaning.ipynb Cellule 6\u001b[0m in \u001b[0;36m<cell line: 34>\u001b[0;34m()\u001b[0m\n\u001b[1;32m     <a href='vscode-notebook-cell:/Users/skanderboudawara/Desktop/Data%20projects/TunisairAlert/datasets/SQL%20table/pandas_cleaning.ipynb#ch0000005?line=31'>32</a>\u001b[0m path_report_save \u001b[39m=\u001b[39m os\u001b[39m.\u001b[39mpath\u001b[39m.\u001b[39mjoin(\n\u001b[1;32m     <a href='vscode-notebook-cell:/Users/skanderboudawara/Desktop/Data%20projects/TunisairAlert/datasets/SQL%20table/pandas_cleaning.ipynb#ch0000005?line=32'>33</a>\u001b[0m     os\u001b[39m.\u001b[39mpath\u001b[39m.\u001b[39mabspath(os\u001b[39m.\u001b[39mcurdir), directory_report_monthly)\n\u001b[1;32m     <a href='vscode-notebook-cell:/Users/skanderboudawara/Desktop/Data%20projects/TunisairAlert/datasets/SQL%20table/pandas_cleaning.ipynb#ch0000005?line=33'>34</a>\u001b[0m \u001b[39mif\u001b[39;00m \u001b[39mnot\u001b[39;00m (os\u001b[39m.\u001b[39mpath\u001b[39m.\u001b[39misdir(path_report_save)):\n\u001b[0;32m---> <a href='vscode-notebook-cell:/Users/skanderboudawara/Desktop/Data%20projects/TunisairAlert/datasets/SQL%20table/pandas_cleaning.ipynb#ch0000005?line=34'>35</a>\u001b[0m     os\u001b[39m.\u001b[39;49mmkdir(path_report_save)\n\u001b[1;32m     <a href='vscode-notebook-cell:/Users/skanderboudawara/Desktop/Data%20projects/TunisairAlert/datasets/SQL%20table/pandas_cleaning.ipynb#ch0000005?line=36'>37</a>\u001b[0m \u001b[39m# Save picture and return its path\u001b[39;00m\n\u001b[1;32m     <a href='vscode-notebook-cell:/Users/skanderboudawara/Desktop/Data%20projects/TunisairAlert/datasets/SQL%20table/pandas_cleaning.ipynb#ch0000005?line=37'>38</a>\u001b[0m picture_to_save \u001b[39m=\u001b[39m \u001b[39mf\u001b[39m\u001b[39m'\u001b[39m\u001b[39m{\u001b[39;00mpath_report_save\u001b[39m}\u001b[39;00m\u001b[39m/\u001b[39m\u001b[39m{\u001b[39;00mcurrent_time\u001b[39m.\u001b[39mstrftime(\u001b[39m\"\u001b[39m\u001b[39m%d\u001b[39;00m\u001b[39m_\u001b[39m\u001b[39m%\u001b[39m\u001b[39mm_\u001b[39m\u001b[39m%\u001b[39m\u001b[39mY\u001b[39m\u001b[39m\"\u001b[39m)\u001b[39m}\u001b[39;00m\u001b[39m_arr_delayreport.png\u001b[39m\u001b[39m'\u001b[39m\n",
      "\u001b[0;31mFileNotFoundError\u001b[0m: [Errno 2] No such file or directory: '/Users/skanderboudawara/Desktop/Data projects/TunisairAlert/datasets/SQL table/reports/07'"
     ]
    },
    {
     "ename": "FileNotFoundError",
     "evalue": "[Errno 2] No such file or directory: '/Users/skanderboudawara/Desktop/Data projects/TunisairAlert/datasets/SQL table/reports/fonts/LEDBDREV.TTF'",
     "output_type": "error",
     "traceback": [
      "\u001b[0;31m---------------------------------------------------------------------------\u001b[0m",
      "\u001b[0;31mFileNotFoundError\u001b[0m                         Traceback (most recent call last)",
      "File \u001b[0;32m/opt/homebrew/lib/python3.9/site-packages/IPython/core/formatters.py:339\u001b[0m, in \u001b[0;36mBaseFormatter.__call__\u001b[0;34m(self, obj)\u001b[0m\n\u001b[1;32m    337\u001b[0m     \u001b[39mpass\u001b[39;00m\n\u001b[1;32m    338\u001b[0m \u001b[39melse\u001b[39;00m:\n\u001b[0;32m--> 339\u001b[0m     \u001b[39mreturn\u001b[39;00m printer(obj)\n\u001b[1;32m    340\u001b[0m \u001b[39m# Finally look for special method names\u001b[39;00m\n\u001b[1;32m    341\u001b[0m method \u001b[39m=\u001b[39m get_real_method(obj, \u001b[39mself\u001b[39m\u001b[39m.\u001b[39mprint_method)\n",
      "File \u001b[0;32m/opt/homebrew/lib/python3.9/site-packages/IPython/core/pylabtools.py:151\u001b[0m, in \u001b[0;36mprint_figure\u001b[0;34m(fig, fmt, bbox_inches, base64, **kwargs)\u001b[0m\n\u001b[1;32m    148\u001b[0m     \u001b[39mfrom\u001b[39;00m \u001b[39mmatplotlib\u001b[39;00m\u001b[39m.\u001b[39;00m\u001b[39mbackend_bases\u001b[39;00m \u001b[39mimport\u001b[39;00m FigureCanvasBase\n\u001b[1;32m    149\u001b[0m     FigureCanvasBase(fig)\n\u001b[0;32m--> 151\u001b[0m fig\u001b[39m.\u001b[39;49mcanvas\u001b[39m.\u001b[39;49mprint_figure(bytes_io, \u001b[39m*\u001b[39;49m\u001b[39m*\u001b[39;49mkw)\n\u001b[1;32m    152\u001b[0m data \u001b[39m=\u001b[39m bytes_io\u001b[39m.\u001b[39mgetvalue()\n\u001b[1;32m    153\u001b[0m \u001b[39mif\u001b[39;00m fmt \u001b[39m==\u001b[39m \u001b[39m'\u001b[39m\u001b[39msvg\u001b[39m\u001b[39m'\u001b[39m:\n",
      "File \u001b[0;32m/opt/homebrew/lib/python3.9/site-packages/matplotlib/backend_bases.py:2295\u001b[0m, in \u001b[0;36mFigureCanvasBase.print_figure\u001b[0;34m(self, filename, dpi, facecolor, edgecolor, orientation, format, bbox_inches, pad_inches, bbox_extra_artists, backend, **kwargs)\u001b[0m\n\u001b[1;32m   2289\u001b[0m     renderer \u001b[39m=\u001b[39m _get_renderer(\n\u001b[1;32m   2290\u001b[0m         \u001b[39mself\u001b[39m\u001b[39m.\u001b[39mfigure,\n\u001b[1;32m   2291\u001b[0m         functools\u001b[39m.\u001b[39mpartial(\n\u001b[1;32m   2292\u001b[0m             print_method, orientation\u001b[39m=\u001b[39morientation)\n\u001b[1;32m   2293\u001b[0m     )\n\u001b[1;32m   2294\u001b[0m     \u001b[39mwith\u001b[39;00m \u001b[39mgetattr\u001b[39m(renderer, \u001b[39m\"\u001b[39m\u001b[39m_draw_disabled\u001b[39m\u001b[39m\"\u001b[39m, nullcontext)():\n\u001b[0;32m-> 2295\u001b[0m         \u001b[39mself\u001b[39;49m\u001b[39m.\u001b[39;49mfigure\u001b[39m.\u001b[39;49mdraw(renderer)\n\u001b[1;32m   2297\u001b[0m \u001b[39mif\u001b[39;00m bbox_inches:\n\u001b[1;32m   2298\u001b[0m     \u001b[39mif\u001b[39;00m bbox_inches \u001b[39m==\u001b[39m \u001b[39m\"\u001b[39m\u001b[39mtight\u001b[39m\u001b[39m\"\u001b[39m:\n",
      "File \u001b[0;32m/opt/homebrew/lib/python3.9/site-packages/matplotlib/artist.py:73\u001b[0m, in \u001b[0;36m_finalize_rasterization.<locals>.draw_wrapper\u001b[0;34m(artist, renderer, *args, **kwargs)\u001b[0m\n\u001b[1;32m     71\u001b[0m \u001b[39m@wraps\u001b[39m(draw)\n\u001b[1;32m     72\u001b[0m \u001b[39mdef\u001b[39;00m \u001b[39mdraw_wrapper\u001b[39m(artist, renderer, \u001b[39m*\u001b[39margs, \u001b[39m*\u001b[39m\u001b[39m*\u001b[39mkwargs):\n\u001b[0;32m---> 73\u001b[0m     result \u001b[39m=\u001b[39m draw(artist, renderer, \u001b[39m*\u001b[39;49margs, \u001b[39m*\u001b[39;49m\u001b[39m*\u001b[39;49mkwargs)\n\u001b[1;32m     74\u001b[0m     \u001b[39mif\u001b[39;00m renderer\u001b[39m.\u001b[39m_rasterizing:\n\u001b[1;32m     75\u001b[0m         renderer\u001b[39m.\u001b[39mstop_rasterizing()\n",
      "File \u001b[0;32m/opt/homebrew/lib/python3.9/site-packages/matplotlib/artist.py:50\u001b[0m, in \u001b[0;36mallow_rasterization.<locals>.draw_wrapper\u001b[0;34m(artist, renderer)\u001b[0m\n\u001b[1;32m     47\u001b[0m     \u001b[39mif\u001b[39;00m artist\u001b[39m.\u001b[39mget_agg_filter() \u001b[39mis\u001b[39;00m \u001b[39mnot\u001b[39;00m \u001b[39mNone\u001b[39;00m:\n\u001b[1;32m     48\u001b[0m         renderer\u001b[39m.\u001b[39mstart_filter()\n\u001b[0;32m---> 50\u001b[0m     \u001b[39mreturn\u001b[39;00m draw(artist, renderer)\n\u001b[1;32m     51\u001b[0m \u001b[39mfinally\u001b[39;00m:\n\u001b[1;32m     52\u001b[0m     \u001b[39mif\u001b[39;00m artist\u001b[39m.\u001b[39mget_agg_filter() \u001b[39mis\u001b[39;00m \u001b[39mnot\u001b[39;00m \u001b[39mNone\u001b[39;00m:\n",
      "File \u001b[0;32m/opt/homebrew/lib/python3.9/site-packages/matplotlib/figure.py:2837\u001b[0m, in \u001b[0;36mFigure.draw\u001b[0;34m(self, renderer)\u001b[0m\n\u001b[1;32m   2834\u001b[0m         \u001b[39m# ValueError can occur when resizing a window.\u001b[39;00m\n\u001b[1;32m   2836\u001b[0m \u001b[39mself\u001b[39m\u001b[39m.\u001b[39mpatch\u001b[39m.\u001b[39mdraw(renderer)\n\u001b[0;32m-> 2837\u001b[0m mimage\u001b[39m.\u001b[39;49m_draw_list_compositing_images(\n\u001b[1;32m   2838\u001b[0m     renderer, \u001b[39mself\u001b[39;49m, artists, \u001b[39mself\u001b[39;49m\u001b[39m.\u001b[39;49msuppressComposite)\n\u001b[1;32m   2840\u001b[0m \u001b[39mfor\u001b[39;00m sfig \u001b[39min\u001b[39;00m \u001b[39mself\u001b[39m\u001b[39m.\u001b[39msubfigs:\n\u001b[1;32m   2841\u001b[0m     sfig\u001b[39m.\u001b[39mdraw(renderer)\n",
      "File \u001b[0;32m/opt/homebrew/lib/python3.9/site-packages/matplotlib/image.py:132\u001b[0m, in \u001b[0;36m_draw_list_compositing_images\u001b[0;34m(renderer, parent, artists, suppress_composite)\u001b[0m\n\u001b[1;32m    130\u001b[0m \u001b[39mif\u001b[39;00m not_composite \u001b[39mor\u001b[39;00m \u001b[39mnot\u001b[39;00m has_images:\n\u001b[1;32m    131\u001b[0m     \u001b[39mfor\u001b[39;00m a \u001b[39min\u001b[39;00m artists:\n\u001b[0;32m--> 132\u001b[0m         a\u001b[39m.\u001b[39;49mdraw(renderer)\n\u001b[1;32m    133\u001b[0m \u001b[39melse\u001b[39;00m:\n\u001b[1;32m    134\u001b[0m     \u001b[39m# Composite any adjacent images together\u001b[39;00m\n\u001b[1;32m    135\u001b[0m     image_group \u001b[39m=\u001b[39m []\n",
      "File \u001b[0;32m/opt/homebrew/lib/python3.9/site-packages/matplotlib/artist.py:50\u001b[0m, in \u001b[0;36mallow_rasterization.<locals>.draw_wrapper\u001b[0;34m(artist, renderer)\u001b[0m\n\u001b[1;32m     47\u001b[0m     \u001b[39mif\u001b[39;00m artist\u001b[39m.\u001b[39mget_agg_filter() \u001b[39mis\u001b[39;00m \u001b[39mnot\u001b[39;00m \u001b[39mNone\u001b[39;00m:\n\u001b[1;32m     48\u001b[0m         renderer\u001b[39m.\u001b[39mstart_filter()\n\u001b[0;32m---> 50\u001b[0m     \u001b[39mreturn\u001b[39;00m draw(artist, renderer)\n\u001b[1;32m     51\u001b[0m \u001b[39mfinally\u001b[39;00m:\n\u001b[1;32m     52\u001b[0m     \u001b[39mif\u001b[39;00m artist\u001b[39m.\u001b[39mget_agg_filter() \u001b[39mis\u001b[39;00m \u001b[39mnot\u001b[39;00m \u001b[39mNone\u001b[39;00m:\n",
      "File \u001b[0;32m/opt/homebrew/lib/python3.9/site-packages/matplotlib/axes/_base.py:3091\u001b[0m, in \u001b[0;36m_AxesBase.draw\u001b[0;34m(self, renderer)\u001b[0m\n\u001b[1;32m   3088\u001b[0m         a\u001b[39m.\u001b[39mdraw(renderer)\n\u001b[1;32m   3089\u001b[0m     renderer\u001b[39m.\u001b[39mstop_rasterizing()\n\u001b[0;32m-> 3091\u001b[0m mimage\u001b[39m.\u001b[39;49m_draw_list_compositing_images(\n\u001b[1;32m   3092\u001b[0m     renderer, \u001b[39mself\u001b[39;49m, artists, \u001b[39mself\u001b[39;49m\u001b[39m.\u001b[39;49mfigure\u001b[39m.\u001b[39;49msuppressComposite)\n\u001b[1;32m   3094\u001b[0m renderer\u001b[39m.\u001b[39mclose_group(\u001b[39m'\u001b[39m\u001b[39maxes\u001b[39m\u001b[39m'\u001b[39m)\n\u001b[1;32m   3095\u001b[0m \u001b[39mself\u001b[39m\u001b[39m.\u001b[39mstale \u001b[39m=\u001b[39m \u001b[39mFalse\u001b[39;00m\n",
      "File \u001b[0;32m/opt/homebrew/lib/python3.9/site-packages/matplotlib/image.py:132\u001b[0m, in \u001b[0;36m_draw_list_compositing_images\u001b[0;34m(renderer, parent, artists, suppress_composite)\u001b[0m\n\u001b[1;32m    130\u001b[0m \u001b[39mif\u001b[39;00m not_composite \u001b[39mor\u001b[39;00m \u001b[39mnot\u001b[39;00m has_images:\n\u001b[1;32m    131\u001b[0m     \u001b[39mfor\u001b[39;00m a \u001b[39min\u001b[39;00m artists:\n\u001b[0;32m--> 132\u001b[0m         a\u001b[39m.\u001b[39;49mdraw(renderer)\n\u001b[1;32m    133\u001b[0m \u001b[39melse\u001b[39;00m:\n\u001b[1;32m    134\u001b[0m     \u001b[39m# Composite any adjacent images together\u001b[39;00m\n\u001b[1;32m    135\u001b[0m     image_group \u001b[39m=\u001b[39m []\n",
      "File \u001b[0;32m/opt/homebrew/lib/python3.9/site-packages/matplotlib/artist.py:50\u001b[0m, in \u001b[0;36mallow_rasterization.<locals>.draw_wrapper\u001b[0;34m(artist, renderer)\u001b[0m\n\u001b[1;32m     47\u001b[0m     \u001b[39mif\u001b[39;00m artist\u001b[39m.\u001b[39mget_agg_filter() \u001b[39mis\u001b[39;00m \u001b[39mnot\u001b[39;00m \u001b[39mNone\u001b[39;00m:\n\u001b[1;32m     48\u001b[0m         renderer\u001b[39m.\u001b[39mstart_filter()\n\u001b[0;32m---> 50\u001b[0m     \u001b[39mreturn\u001b[39;00m draw(artist, renderer)\n\u001b[1;32m     51\u001b[0m \u001b[39mfinally\u001b[39;00m:\n\u001b[1;32m     52\u001b[0m     \u001b[39mif\u001b[39;00m artist\u001b[39m.\u001b[39mget_agg_filter() \u001b[39mis\u001b[39;00m \u001b[39mnot\u001b[39;00m \u001b[39mNone\u001b[39;00m:\n",
      "File \u001b[0;32m/opt/homebrew/lib/python3.9/site-packages/matplotlib/text.py:685\u001b[0m, in \u001b[0;36mText.draw\u001b[0;34m(self, renderer)\u001b[0m\n\u001b[1;32m    682\u001b[0m renderer\u001b[39m.\u001b[39mopen_group(\u001b[39m'\u001b[39m\u001b[39mtext\u001b[39m\u001b[39m'\u001b[39m, \u001b[39mself\u001b[39m\u001b[39m.\u001b[39mget_gid())\n\u001b[1;32m    684\u001b[0m \u001b[39mwith\u001b[39;00m \u001b[39mself\u001b[39m\u001b[39m.\u001b[39m_cm_set(text\u001b[39m=\u001b[39m\u001b[39mself\u001b[39m\u001b[39m.\u001b[39m_get_wrapped_text()):\n\u001b[0;32m--> 685\u001b[0m     bbox, info, descent \u001b[39m=\u001b[39m \u001b[39mself\u001b[39;49m\u001b[39m.\u001b[39;49m_get_layout(renderer)\n\u001b[1;32m    686\u001b[0m     trans \u001b[39m=\u001b[39m \u001b[39mself\u001b[39m\u001b[39m.\u001b[39mget_transform()\n\u001b[1;32m    688\u001b[0m     \u001b[39m# don't use self.get_position here, which refers to text\u001b[39;00m\n\u001b[1;32m    689\u001b[0m     \u001b[39m# position in Text:\u001b[39;00m\n",
      "File \u001b[0;32m/opt/homebrew/lib/python3.9/site-packages/matplotlib/text.py:309\u001b[0m, in \u001b[0;36mText._get_layout\u001b[0;34m(self, renderer)\u001b[0m\n\u001b[1;32m    306\u001b[0m ys \u001b[39m=\u001b[39m []\n\u001b[1;32m    308\u001b[0m \u001b[39m# Full vertical extent of font, including ascenders and descenders:\u001b[39;00m\n\u001b[0;32m--> 309\u001b[0m _, lp_h, lp_d \u001b[39m=\u001b[39m renderer\u001b[39m.\u001b[39;49mget_text_width_height_descent(\n\u001b[1;32m    310\u001b[0m     \u001b[39m\"\u001b[39;49m\u001b[39mlp\u001b[39;49m\u001b[39m\"\u001b[39;49m, \u001b[39mself\u001b[39;49m\u001b[39m.\u001b[39;49m_fontproperties,\n\u001b[1;32m    311\u001b[0m     ismath\u001b[39m=\u001b[39;49m\u001b[39m\"\u001b[39;49m\u001b[39mTeX\u001b[39;49m\u001b[39m\"\u001b[39;49m \u001b[39mif\u001b[39;49;00m \u001b[39mself\u001b[39;49m\u001b[39m.\u001b[39;49mget_usetex() \u001b[39melse\u001b[39;49;00m \u001b[39mFalse\u001b[39;49;00m)\n\u001b[1;32m    312\u001b[0m min_dy \u001b[39m=\u001b[39m (lp_h \u001b[39m-\u001b[39m lp_d) \u001b[39m*\u001b[39m \u001b[39mself\u001b[39m\u001b[39m.\u001b[39m_linespacing\n\u001b[1;32m    314\u001b[0m \u001b[39mfor\u001b[39;00m i, line \u001b[39min\u001b[39;00m \u001b[39menumerate\u001b[39m(lines):\n",
      "File \u001b[0;32m/opt/homebrew/lib/python3.9/site-packages/matplotlib/backends/backend_agg.py:269\u001b[0m, in \u001b[0;36mRendererAgg.get_text_width_height_descent\u001b[0;34m(self, s, prop, ismath)\u001b[0m\n\u001b[1;32m    266\u001b[0m     \u001b[39mreturn\u001b[39;00m width, height, descent\n\u001b[1;32m    268\u001b[0m flags \u001b[39m=\u001b[39m get_hinting_flag()\n\u001b[0;32m--> 269\u001b[0m font \u001b[39m=\u001b[39m \u001b[39mself\u001b[39;49m\u001b[39m.\u001b[39;49m_get_agg_font(prop)\n\u001b[1;32m    270\u001b[0m font\u001b[39m.\u001b[39mset_text(s, \u001b[39m0.0\u001b[39m, flags\u001b[39m=\u001b[39mflags)\n\u001b[1;32m    271\u001b[0m w, h \u001b[39m=\u001b[39m font\u001b[39m.\u001b[39mget_width_height()  \u001b[39m# width and height of unrotated string\u001b[39;00m\n",
      "File \u001b[0;32m/opt/homebrew/lib/python3.9/site-packages/matplotlib/backends/backend_agg.py:304\u001b[0m, in \u001b[0;36mRendererAgg._get_agg_font\u001b[0;34m(self, prop)\u001b[0m\n\u001b[1;32m    300\u001b[0m \u001b[39m\"\"\"\u001b[39;00m\n\u001b[1;32m    301\u001b[0m \u001b[39mGet the font for text instance t, caching for efficiency\u001b[39;00m\n\u001b[1;32m    302\u001b[0m \u001b[39m\"\"\"\u001b[39;00m\n\u001b[1;32m    303\u001b[0m fname \u001b[39m=\u001b[39m findfont(prop)\n\u001b[0;32m--> 304\u001b[0m font \u001b[39m=\u001b[39m get_font(fname)\n\u001b[1;32m    306\u001b[0m font\u001b[39m.\u001b[39mclear()\n\u001b[1;32m    307\u001b[0m size \u001b[39m=\u001b[39m prop\u001b[39m.\u001b[39mget_size_in_points()\n",
      "File \u001b[0;32m/opt/homebrew/lib/python3.9/site-packages/matplotlib/font_manager.py:1424\u001b[0m, in \u001b[0;36mget_font\u001b[0;34m(filename, hinting_factor)\u001b[0m\n\u001b[1;32m   1422\u001b[0m     hinting_factor \u001b[39m=\u001b[39m rcParams[\u001b[39m'\u001b[39m\u001b[39mtext.hinting_factor\u001b[39m\u001b[39m'\u001b[39m]\n\u001b[1;32m   1423\u001b[0m \u001b[39m# also key on the thread ID to prevent segfaults with multi-threading\u001b[39;00m\n\u001b[0;32m-> 1424\u001b[0m \u001b[39mreturn\u001b[39;00m _get_font(filename, hinting_factor,\n\u001b[1;32m   1425\u001b[0m                  _kerning_factor\u001b[39m=\u001b[39;49mrcParams[\u001b[39m'\u001b[39;49m\u001b[39mtext.kerning_factor\u001b[39;49m\u001b[39m'\u001b[39;49m],\n\u001b[1;32m   1426\u001b[0m                  thread_id\u001b[39m=\u001b[39;49mthreading\u001b[39m.\u001b[39;49mget_ident())\n",
      "File \u001b[0;32m/opt/homebrew/lib/python3.9/site-packages/matplotlib/font_manager.py:1405\u001b[0m, in \u001b[0;36m_get_font\u001b[0;34m(filename, hinting_factor, _kerning_factor, thread_id)\u001b[0m\n\u001b[1;32m   1403\u001b[0m \u001b[39m@lru_cache\u001b[39m(\u001b[39m64\u001b[39m)\n\u001b[1;32m   1404\u001b[0m \u001b[39mdef\u001b[39;00m \u001b[39m_get_font\u001b[39m(filename, hinting_factor, \u001b[39m*\u001b[39m, _kerning_factor, thread_id):\n\u001b[0;32m-> 1405\u001b[0m     \u001b[39mreturn\u001b[39;00m ft2font\u001b[39m.\u001b[39;49mFT2Font(\n\u001b[1;32m   1406\u001b[0m         filename, hinting_factor, _kerning_factor\u001b[39m=\u001b[39;49m_kerning_factor)\n",
      "\u001b[0;31mFileNotFoundError\u001b[0m: [Errno 2] No such file or directory: '/Users/skanderboudawara/Desktop/Data projects/TunisairAlert/datasets/SQL table/reports/fonts/LEDBDREV.TTF'"
     ]
    },
    {
     "data": {
      "text/plain": [
       "<Figure size 900x150 with 1 Axes>"
      ]
     },
     "metadata": {},
     "output_type": "display_data"
    }
   ],
   "source": [
    "# Creating the figures\n",
    "fig, ax = plt.subplots(facecolor='black', figsize=(1200/96, 200/96))\n",
    "df_arr_delay.plot(kind='bar',\n",
    "                    ax=ax,\n",
    "                    stacked=True,\n",
    "                    rot=0,\n",
    "                    # https://matplotlib.org/stable/gallery/color/named_colors.html\n",
    "                    color={'scheduled': 'orange',\n",
    "                            'cancelled': 'lightcoral',\n",
    "                            'active': 'skyblue',\n",
    "                            'landed': 'white'}\n",
    "\n",
    "                    )\n",
    "# Adjusting the metadata\n",
    "ax.set_facecolor('black')\n",
    "ax.set_title('Cumulated arrival delays', fontproperties=prop, y=1.2)\n",
    "ax.title.set_fontsize(20)\n",
    "ax.title.set_color('orange')\n",
    "\n",
    "ax.legend(loc='upper center',  bbox_to_anchor=(0.5, 1.25),\n",
    "            ncol=3, prop=prop, facecolor='black', labelcolor='white', edgecolor='black', handlelength=0.7)\n",
    "ax.spines['bottom'].set_color('white')\n",
    "ax.spines['left'].set_color('white')\n",
    "ax.xaxis.label.set_color('white')\n",
    "ax.yaxis.label.set_color('white')\n",
    "ax.set_xlabel(None)\n",
    "ax.tick_params(axis='y', colors='white')\n",
    "ax.tick_params(axis='x', colors='white')\n",
    "\n",
    "# Check the directory if it exists\n",
    "directory_report_monthly = f'reports/{current_time.strftime(\"%m\")}'\n",
    "path_report_save = os.path.join(\n",
    "    os.path.abspath(os.curdir), directory_report_monthly)\n",
    "if not (os.path.isdir(path_report_save)):\n",
    "    os.mkdir(path_report_save)\n",
    "\n",
    "# Save picture and return its path\n",
    "picture_to_save = f'{path_report_save}/{current_time.strftime(\"%d_%m_%Y\")}_arr_delayreport.png'\n",
    "fig.savefig(picture_to_save, bbox_inches='tight')"
   ]
  }
 ],
 "metadata": {
  "kernelspec": {
   "display_name": "Python 3.9.13 64-bit",
   "language": "python",
   "name": "python3"
  },
  "language_info": {
   "codemirror_mode": {
    "name": "ipython",
    "version": 3
   },
   "file_extension": ".py",
   "mimetype": "text/x-python",
   "name": "python",
   "nbconvert_exporter": "python",
   "pygments_lexer": "ipython3",
   "version": "3.9.13"
  },
  "orig_nbformat": 4,
  "vscode": {
   "interpreter": {
    "hash": "b0fa6594d8f4cbf19f97940f81e996739fb7646882a419484c72d19e05852a7e"
   }
  }
 },
 "nbformat": 4,
 "nbformat_minor": 2
}
